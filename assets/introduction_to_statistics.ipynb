{
  "nbformat": 4,
  "nbformat_minor": 0,
  "metadata": {
    "colab": {
      "name": "introduction_to_statistics.ipynb",
      "provenance": [],
      "collapsed_sections": [],
      "authorship_tag": "ABX9TyPyQnoYOdZem5libv2kBVkK",
      "include_colab_link": true
    },
    "kernelspec": {
      "name": "python3",
      "display_name": "Python 3"
    },
    "language_info": {
      "name": "python"
    }
  },
  "cells": [
    {
      "cell_type": "markdown",
      "metadata": {
        "id": "view-in-github",
        "colab_type": "text"
      },
      "source": [
        "<a href=\"https://colab.research.google.com/github/albinsun/albinsun.github.io/blob/master/assets/introduction_to_statistics.ipynb\" target=\"_parent\"><img src=\"https://colab.research.google.com/assets/colab-badge.svg\" alt=\"Open In Colab\"/></a>"
      ]
    },
    {
      "cell_type": "markdown",
      "source": [
        "# Introduction to Statistics"
      ],
      "metadata": {
        "id": "P0UjsxO8Ggc5"
      }
    },
    {
      "cell_type": "markdown",
      "source": [
        "## Setup Environment"
      ],
      "metadata": {
        "id": "9SdcCEO5GzjS"
      }
    },
    {
      "cell_type": "code",
      "source": [
        "!pip install matplotlib\n",
        "\n",
        "import pandas as pd"
      ],
      "metadata": {
        "id": "ubStsYj5S-ac"
      },
      "execution_count": null,
      "outputs": []
    },
    {
      "cell_type": "markdown",
      "source": [
        "## Common Measures\n"
      ],
      "metadata": {
        "id": "tJfDyxwQHvhP"
      }
    },
    {
      "cell_type": "code",
      "source": [
        "prices = pd.Series([8, 12,  11, 10, 12, 9, 13, 15, 20, 30], name=\"Price (Million)\")\n",
        "prices.plot.hist(bins=5)"
      ],
      "metadata": {
        "id": "fc9NpYXXSyu_",
        "colab": {
          "base_uri": "https://localhost:8080/",
          "height": 283
        },
        "outputId": "8dfa5f08-70f1-4f2c-efba-447aab2ccf44"
      },
      "execution_count": 19,
      "outputs": [
        {
          "output_type": "execute_result",
          "data": {
            "text/plain": [
              "<matplotlib.axes._subplots.AxesSubplot at 0x7fa34f0e9710>"
            ]
          },
          "metadata": {},
          "execution_count": 19
        },
        {
          "output_type": "display_data",
          "data": {
            "text/plain": [
              "<Figure size 432x288 with 1 Axes>"
            ],
            "image/png": "[encoded data removed]"
          },
          "metadata": {
            "needs_background": "light"
          }
        }
      ]
    },
    {
      "cell_type": "markdown",
      "source": [
        "### Percentile and Five Numbers Summary\n",
        "\n"
      ],
      "metadata": {
        "id": "oYVsyQ6BJJ7G"
      }
    },
    {
      "cell_type": "markdown",
      "source": [
        "$P_k$ ($k_{th}$ percentile) : $k\\%$ of data $\\le P_k \\le (100-k)\\%$ of data"
      ],
      "metadata": {
        "id": "zBf6br5PhUoJ"
      }
    },
    {
      "cell_type": "code",
      "source": [
        "print(f\"Minimum      (  0th percentile): {prices.quantile(0)}\")\n",
        "print(f\"1st quartile ( 25th percentile): {prices.quantile(0.25)}\")\n",
        "print(f\"2nd quartile ( 50th percentile): {prices.quantile(0.5)}\")\n",
        "print(f\"Median = 2nd quartile          : {prices.median() == prices.quantile(0.5)}\")\n",
        "print(f\"3rd quartile ( 75th percentile): {prices.quantile(0.75)}\")\n",
        "print(f\"Maximum      (100th percentile): {prices.quantile(1)}\")"
      ],
      "metadata": {
        "colab": {
          "base_uri": "https://localhost:8080/"
        },
        "id": "ILrMwA1-J-iA",
        "outputId": "926c51fa-f7b7-41df-8046-2122a4421c7d"
      },
      "execution_count": 20,
      "outputs": [
        {
          "output_type": "stream",
          "name": "stdout",
          "text": [
            "Minimum      (  0th percentile): 8.0\n",
            "1st quartile ( 25th percentile): 10.25\n",
            "2nd quartile ( 50th percentile): 12.0\n",
            "Median = 2nd quartile          : True\n",
            "3rd quartile ( 75th percentile): 14.5\n",
            "Maximum      (100th percentile): 30.0\n"
          ]
        }
      ]
    },
    {
      "cell_type": "code",
      "source": [
        "prices.plot.box()"
      ],
      "metadata": {
        "colab": {
          "base_uri": "https://localhost:8080/",
          "height": 283
        },
        "id": "R-3DhsHxRfkS",
        "outputId": "11c48984-3f00-4d28-d96e-8a6ea16ce98b"
      },
      "execution_count": 21,
      "outputs": [
        {
          "output_type": "execute_result",
          "data": {
            "text/plain": [
              "<matplotlib.axes._subplots.AxesSubplot at 0x7fa34f0595d0>"
            ]
          },
          "metadata": {},
          "execution_count": 21
        },
        {
          "output_type": "display_data",
          "data": {
            "text/plain": [
              "<Figure size 432x288 with 1 Axes>"
            ],
            "image/png": "[encoded data removed]"
          },
          "metadata": {
            "needs_background": "light"
          }
        }
      ]
    },
    {
      "cell_type": "markdown",
      "source": [
        "### Mean and Standard Deviation"
      ],
      "metadata": {
        "id": "Sv6dV6Z2RdED"
      }
    },
    {
      "cell_type": "markdown",
      "source": [
        "For numbers $x_1, x_2, ..., x_n$\n",
        "\n",
        "The mean (average) $\\bar{x}$ is defined as\n",
        "\n",
        "$$\n",
        "\\bar{x} = \\frac{1}{n} \\sum_{i=1}^n x_i\n",
        "$$\n",
        "\n",
        "and the standard deviation $\\sigma_x$\n",
        "\n",
        "$$\n",
        "\\sigma_x = \\sqrt{\\frac{1}{n} \\sum_{i=1}^n (x_i - \\bar{x})^2}\n",
        "$$"
      ],
      "metadata": {
        "id": "gdMmEnxQhPfo"
      }
    },
    {
      "cell_type": "code",
      "source": [
        "print(f\"mean: {prices.mean()}\")\n",
        "print(f\"stdev: {prices.std()}\")"
      ],
      "metadata": {
        "id": "MuUTZllFc0R-",
        "colab": {
          "base_uri": "https://localhost:8080/"
        },
        "outputId": "0de5c9bc-0691-4ffc-ed49-5db99e6bb33c"
      },
      "execution_count": 22,
      "outputs": [
        {
          "output_type": "stream",
          "name": "stdout",
          "text": [
            "mean: 14.0\n",
            "stdev: 6.5659052011974035\n"
          ]
        }
      ]
    },
    {
      "cell_type": "markdown",
      "source": [
        "### Mesure with Mean & $\\sigma$ or Median & IQR?"
      ],
      "metadata": {
        "id": "E5kfHq_VhaAB"
      }
    },
    {
      "cell_type": "markdown",
      "source": [
        "Note that mean and stardart deviation are sensitive to edge values, if it is a concern, use median and inter quartile range (IQR) instead"
      ],
      "metadata": {
        "id": "r5LgGKddgf9b"
      }
    },
    {
      "cell_type": "code",
      "source": [
        "print(f\"Median: {prices.median()}\")\n",
        "print(f\"IQR: {prices.quantile(0.75) - prices.quantile(0.25)}\")"
      ],
      "metadata": {
        "colab": {
          "base_uri": "https://localhost:8080/"
        },
        "id": "c8Ez3OV2exue",
        "outputId": "1220bdff-f727-48ac-d889-564999018a77"
      },
      "execution_count": 23,
      "outputs": [
        {
          "output_type": "stream",
          "name": "stdout",
          "text": [
            "Median: 12.0\n",
            "IQR: 4.25\n"
          ]
        }
      ]
    },
    {
      "cell_type": "code",
      "source": [
        ""
      ],
      "metadata": {
        "id": "fTQRUG-4hBc9"
      },
      "execution_count": null,
      "outputs": []
    }
  ]
}
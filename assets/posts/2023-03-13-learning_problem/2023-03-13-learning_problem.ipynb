{
 "cells": [
  {
   "attachments": {},
   "cell_type": "markdown",
   "metadata": {},
   "source": [
    "By collecting input data $X$ and output data $Y$ for a problem:\n",
    "\n",
    "$$\n",
    "\\begin{align*}\n",
    "X &= [x_{1}, x_{2}... x_{N}] \\\\\n",
    "Y &= [y_{1}, y_{2}... y_{N}] \\\\\n",
    "\\end{align*}\n",
    "$$\n",
    "\n",
    "We want to find out the target ideal function $f$ where $Y=f(X)$, but most of time we can only find a \"good enough\" solution $g \\approx f$ since real-world problem has no analytic solution.\n",
    "\n",
    "In data learning, we will have a learning algorithm $A$ and a hypothesis set $H$ which contains possible formulas where\n",
    "\n",
    "$$\n",
    "\\begin{align*}\n",
    "g &= A(X, Y, H) \\\\\n",
    "Y &= g(X) \\\\\n",
    "\\end{align*}\n",
    "$$\n",
    "\n",
    "Note that $X$, $Y$ and $f$ are decided by the problem. What we choose are $H$ and $A$ which informally referred as the _learning model_."
   ]
  },
  {
   "attachments": {},
   "cell_type": "markdown",
   "metadata": {},
   "source": [
    "## Example: The Perceptron Model"
   ]
  },
  {
   "attachments": {},
   "cell_type": "markdown",
   "metadata": {},
   "source": [
    "Consider a credit card application problem, we have historical application data includes $d$-dimensional customer metadata (salary, debt, job and year of residence, etc.) and the final decision (approve or deny)"
   ]
  },
  {
   "attachments": {},
   "cell_type": "markdown",
   "metadata": {},
   "source": [
    "### Data\n",
    "\n",
    "$$\n",
    "\\begin{align*}\n",
    "\\vec{x} &= [x_{1}, x_{2},... , x_{d}] \\\\\n",
    "y       &= \\{1, -1\\} \\\\\n",
    "\\vec{X} &= [\\vec{x}_{1}, \\vec{x}_{2},... , \\vec{x}_{N}] \\\\\n",
    "\\vec{Y} &= [y_{1}, y_{2},... , y_{N}] \\\\\n",
    "\\end{align*}\n",
    "$$"
   ]
  },
  {
   "attachments": {},
   "cell_type": "markdown",
   "metadata": {},
   "source": [
    "### Model\n",
    "\n",
    "Here we choose a linear weights hypothesis represents different importances of parameters.\n",
    "\n",
    "$$\n",
    "H(\\vec{x}) = sign(b + \\sum_{i=1}^d w_ix_i)\n",
    "$$\n",
    "\n",
    "where $\\sum_{i=1}^d w_ix_i$ is the credit score and $b$ is some threshhold. The application will be approve if score $>$ threshold otherwise deny.\n",
    "\n",
    "To simplify, let $w_0 = b$ and $x_0 = 1$, thus we have\n",
    "\n",
    "$$\n",
    "\\begin{align*}\n",
    "H(\\vec{x}) &= sign(\\vec{w}^T\\vec{x}) \\\\\n",
    "\\vec{w} &= [b, w_1, w_2, ..., w_d] \\\\\n",
    "\\vec{x} &= [1, x_1, x_2, ..., x_d] \\\\\n",
    "\\end{align*}\n",
    "$$"
   ]
  }
 ],
 "metadata": {
  "kernelspec": {
   "display_name": "Python 3",
   "language": "python",
   "name": "python3"
  },
  "language_info": {
   "codemirror_mode": {
    "name": "ipython",
    "version": 3
   },
   "file_extension": ".py",
   "mimetype": "text/x-python",
   "name": "python",
   "nbconvert_exporter": "python",
   "pygments_lexer": "ipython3",
   "version": "3.10.4"
  },
  "orig_nbformat": 4
 },
 "nbformat": 4,
 "nbformat_minor": 2
}

{
 "cells": [
  {
   "attachments": {},
   "cell_type": "markdown",
   "metadata": {},
   "source": [
    "## Learning Problem\n"
   ]
  },
  {
   "attachments": {},
   "cell_type": "markdown",
   "metadata": {},
   "source": [
    "In general, we have data for real world problem:\n",
    "\n",
    "$$\n",
    "\\begin{align*}\n",
    "X &= [x_{1}, x_{2}... x_{N}] \\\\\n",
    "Y &= [y_{1}, y_{2}... y_{N}] \\\\\n",
    "\\end{align*}\n",
    "$$\n",
    "\n",
    "Where $X$ and $Y$ are input and output space, and people want to find the target ideal function $Y=f(X)$.\n",
    "\n",
    "It's possible to find $f$ for simple question with analytic solution. However, it's hard for applied, real-world problems. Generally we can only find a \"good enough\" solution $g$ which close to $f$.\n"
   ]
  }
 ],
 "metadata": {
  "kernelspec": {
   "display_name": "Python 3",
   "language": "python",
   "name": "python3"
  },
  "language_info": {
   "codemirror_mode": {
    "name": "ipython",
    "version": 3
   },
   "file_extension": ".py",
   "mimetype": "text/x-python",
   "name": "python",
   "nbconvert_exporter": "python",
   "pygments_lexer": "ipython3",
   "version": "3.10.4"
  },
  "orig_nbformat": 4
 },
 "nbformat": 4,
 "nbformat_minor": 2
}

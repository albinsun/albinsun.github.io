{
 "cells": [
  {
   "cell_type": "markdown",
   "id": "jewish-eight",
   "metadata": {},
   "source": [
    "When we want to filter noise and have an idea about the trend of a time series, we usually apply **linear** or **exponential** moving average (MA) depends on the noise is time independent or not. the latter assumes current value is affected by last one, thus we can define the relation as\n",
    "\n",
    "$$ v_t = \\beta p_t + (1 - \\beta)v_{t-1} $$\n",
    "\n",
    "Where $p_t$ and $v_t$ are the pratical/weighted value at time $t$ respectively, $\\beta$ is the weighting for current pratical value and thus $(1-\\beta)$ is for the last weighted value."
   ]
  },
  {
   "cell_type": "markdown",
   "id": "civil-velvet",
   "metadata": {},
   "source": [
    "## Recurrence Relation"
   ]
  },
  {
   "attachments": {},
   "cell_type": "markdown",
   "id": "female-azerbaijan",
   "metadata": {},
   "source": [
    "Let's expand $v_{20}$\n",
    "\n",
    "$$\n",
    "\\begin{align*}\n",
    "v_{20} &= \\beta p_{20} + (1-\\beta) v_{19} \\\\\n",
    "        &= \\beta p_{20} + (1-\\beta) [\\beta p_{19} + (1-\\beta) v_{18}] \\\\\n",
    "        &= \\beta p_{20} + \\beta (1-\\beta) p_{19} + (1-\\beta)^2 [\\beta p_{18} + (1-\\beta) v_{17}] \\\\\n",
    "        &= \\cdots \\\\\n",
    "        &= \\beta [ p_{20} + (1-\\beta) p_{19} + (1-\\beta)^2 p_{18} + \\cdots + (1-\\beta)^k p_{20-k} ]\n",
    "\\end{align*}\n",
    "$$\n",
    "\n",
    "thus we get the recurrence relation\n",
    "$$ v_t = \\beta \\vec{P} \\cdot \\vec{W} $$\n",
    "where\n",
    "$$\n",
    "\\begin{align*}\n",
    "\\vec{P} &= [p_t   &&,p_{t-1}         &&,p_{t-2}           &&\\cdots  &&,p_1                   &&,p_0] \\\\\n",
    "\\vec{W} &= [\\beta &&,\\beta (1-\\beta) &&,\\beta (1-\\beta)^2 &&\\cdots  &&,\\beta (1-\\beta)^{t-1} &&,\\beta (1-\\beta)^t]\n",
    "\\end{align*}\n",
    "$$"
   ]
  },
  {
   "cell_type": "code",
   "execution_count": 3,
   "id": "uniform-defensive",
   "metadata": {
    "tags": []
   },
   "outputs": [
    {
     "data": {
      "text/html": [
       "\n",
       "<style>\n",
       ".output {\n",
       "    display: flex;\n",
       "    align-items: center;\n",
       "    text-align: center;\n",
       "}\n",
       "</style>\n"
      ],
      "text/plain": [
       "<IPython.core.display.HTML object>"
      ]
     },
     "metadata": {},
     "output_type": "display_data"
    },
    {
     "data": {
      "image/png": "[encoded data removed]",
      "text/plain": [
       "<Figure size 432x288 with 1 Axes>"
      ]
     },
     "metadata": {
      "needs_background": "light"
     },
     "output_type": "display_data"
    },
    {
     "data": {
      "text/html": [
       "\n",
       "<style>\n",
       ".output {\n",
       "    display: flex;\n",
       "    align-items: center;\n",
       "    text-align: center;\n",
       "}\n",
       "</style>\n"
      ],
      "text/plain": [
       "<IPython.core.display.HTML object>"
      ]
     },
     "metadata": {},
     "output_type": "display_data"
    }
   ],
   "source": [
    "import matplotlib.pyplot as plt\n",
    "\n",
    "beta = 0.3\n",
    "steps = 20\n",
    "T = range(0, 21)\n",
    "W = [beta * (1-beta)**(steps-t) for t in T]\n",
    "plt.plot(T, W, 'o--')\n",
    "plt.annotate(r'$\\beta$', xy=(T[-1]-0.5, W[-1]), xytext=(T[-1]-3, W[-1]), arrowprops={'arrowstyle': '->'})\n",
    "plt.annotate(r'$\\beta(1-\\beta)$', xy=(T[-2]-0.5, W[-2]), xytext=(T[-2]-5, W[-2]), arrowprops={'arrowstyle': '->'})\n",
    "plt.annotate(r'$\\beta(1-\\beta)^2$', xy=(T[-3]-0.5, W[-3]), xytext=(T[-3]-5, W[-3]), arrowprops={'arrowstyle': '->'})\n",
    "plt.title(\"Weighting on $p_t$\")\n",
    "plt.xlabel(\"T\")\n",
    "plt.ylabel(\"W\")\n",
    "plt.xticks(range(0,21,2))\n",
    "plt.grid(linestyle='--')\n",
    "plt.show()"
   ]
  },
  {
   "cell_type": "markdown",
   "id": "sorted-three",
   "metadata": {},
   "source": [
    "In this $\\beta = 0.3$ sample, $v_{20}$ has a contribution from $p_{20}$ with factor 0.3 ($\\beta$), and drop exponentially, 0.21 on $p_{19}$ and 0.05 on $p_{15}$ already."
   ]
  },
  {
   "cell_type": "markdown",
   "id": "incomplete-conjunction",
   "metadata": {},
   "source": [
    "## Discusstion on $\\beta$"
   ]
  },
  {
   "cell_type": "markdown",
   "id": "nutritional-divorce",
   "metadata": {},
   "source": [
    "Using [Compound interest](https://en.wikipedia.org/wiki/Compound_interest) as an example, known that\n",
    "\n",
    "$$ \\lim_{n \\to \\infty} (1 + \\frac{r}{n})^n = e^r $$\n",
    "\n",
    "To get our previous formula, let $r = -1$ and $\\beta = 1 / n$, then\n",
    "\n",
    "$$ \\lim_{\\beta \\to 0} (1 - \\beta)^{\\frac{1}{\\beta}} = \\frac{1}{e} \\approx 0.3678 $$\n",
    "\n",
    "Which means the weighting drop to about $1/3$ after $1/\\beta$ periods. \n",
    "\n",
    "Unlike fixed window size in linear MA, we can easily define 1 week or 1 month MA. Exponential MA affacets by all previous elements. **By convention we use $1/e$ as a reference and says it's a $1/\\beta$ period EMA.** e.g. To calculate 1 week EMA of stock price, we let $1/\\beta = 5$ thus set $\\beta$ to 0.2."
   ]
  }
 ],
 "metadata": {
  "kernelspec": {
   "display_name": "Python 3",
   "language": "python",
   "name": "python3"
  },
  "language_info": {
   "codemirror_mode": {
    "name": "ipython",
    "version": 3
   },
   "file_extension": ".py",
   "mimetype": "text/x-python",
   "name": "python",
   "nbconvert_exporter": "python",
   "pygments_lexer": "ipython3",
   "version": "3.8.5"
  },
  "toc-showtags": true
 },
 "nbformat": 4,
 "nbformat_minor": 5
}

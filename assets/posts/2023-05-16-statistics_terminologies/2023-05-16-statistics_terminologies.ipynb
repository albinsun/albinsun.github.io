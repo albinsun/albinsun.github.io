{
  "cells": [
    {
      "cell_type": "markdown",
      "metadata": {
        "id": "9SdcCEO5GzjS"
      },
      "source": [
        "## Setup Environment"
      ]
    },
    {
      "attachments": {},
      "cell_type": "markdown",
      "metadata": {},
      "source": [
        "### Python Package"
      ]
    },
    {
      "cell_type": "code",
      "execution_count": 1,
      "metadata": {
        "colab": {
          "base_uri": "https://localhost:8080/"
        },
        "id": "ubStsYj5S-ac",
        "outputId": "9af9287d-c42a-4b48-c60f-212ab72db4a6"
      },
      "outputs": [
        {
          "name": "stdout",
          "output_type": "stream",
          "text": [
            "Requirement already satisfied: matplotlib in /home/albin/Workspace/albinsun.github.io/.venv/lib/python3.6/site-packages (3.3.4)\n",
            "Requirement already satisfied: pyparsing!=2.0.4,!=2.1.2,!=2.1.6,>=2.0.3 in /home/albin/Workspace/albinsun.github.io/.venv/lib/python3.6/site-packages (from matplotlib) (3.0.9)\n",
            "Requirement already satisfied: numpy>=1.15 in /home/albin/Workspace/albinsun.github.io/.venv/lib/python3.6/site-packages (from matplotlib) (1.19.5)\n",
            "Requirement already satisfied: kiwisolver>=1.0.1 in /home/albin/Workspace/albinsun.github.io/.venv/lib/python3.6/site-packages (from matplotlib) (1.3.1)\n",
            "Requirement already satisfied: python-dateutil>=2.1 in /home/albin/Workspace/albinsun.github.io/.venv/lib/python3.6/site-packages (from matplotlib) (2.8.2)\n",
            "Requirement already satisfied: pillow>=6.2.0 in /home/albin/Workspace/albinsun.github.io/.venv/lib/python3.6/site-packages (from matplotlib) (8.4.0)\n",
            "Requirement already satisfied: cycler>=0.10 in /home/albin/Workspace/albinsun.github.io/.venv/lib/python3.6/site-packages (from matplotlib) (0.11.0)\n",
            "Requirement already satisfied: six>=1.5 in /home/albin/Workspace/albinsun.github.io/.venv/lib/python3.6/site-packages (from python-dateutil>=2.1->matplotlib) (1.16.0)\n",
            "\u001b[33mWARNING: You are using pip version 20.0.2; however, version 21.3.1 is available.\n",
            "You should consider upgrading via the '/home/albin/Workspace/albinsun.github.io/.venv/bin/python3 -m pip install --upgrade pip' command.\u001b[0m\n"
          ]
        }
      ],
      "source": [
        "!pip install matplotlib\n",
        "\n",
        "import pandas as pd"
      ]
    },
    {
      "attachments": {},
      "cell_type": "markdown",
      "metadata": {
        "id": "tJfDyxwQHvhP"
      },
      "source": [
        "### Test Data\n"
      ]
    },
    {
      "cell_type": "code",
      "execution_count": 2,
      "metadata": {
        "colab": {
          "base_uri": "https://localhost:8080/",
          "height": 283
        },
        "id": "fc9NpYXXSyu_",
        "outputId": "909ec3cb-8eee-48be-9459-6b4261c56e31"
      },
      "outputs": [
        {
          "data": {
            "text/plain": [
              "<AxesSubplot:ylabel='Frequency'>"
            ]
          },
          "execution_count": 2,
          "metadata": {},
          "output_type": "execute_result"
        },
        {
          "data": {
            "image/png": "[encoded data removed]",
            "text/plain": [
              "<Figure size 432x288 with 1 Axes>"
            ]
          },
          "metadata": {
            "needs_background": "light"
          },
          "output_type": "display_data"
        }
      ],
      "source": [
        "prices = pd.Series([8, 12,  11, 10, 12, 9, 13, 15, 20, 30], name=\"Price (Million)\")\n",
        "prices.plot.hist(bins=5)"
      ]
    },
    {
      "attachments": {},
      "cell_type": "markdown",
      "metadata": {
        "id": "oYVsyQ6BJJ7G"
      },
      "source": [
        "## Percentile\n",
        "\n"
      ]
    },
    {
      "attachments": {},
      "cell_type": "markdown",
      "metadata": {
        "id": "zBf6br5PhUoJ"
      },
      "source": [
        "The $k_{th}$ percentile $P_k$ is defined as:\n",
        "$$\n",
        "\n",
        "k\\% \\text{ of data} \\le P_k \\le (100-k)\\% \\text{ of data}\n",
        "\n",
        "$$"
      ]
    },
    {
      "attachments": {},
      "cell_type": "markdown",
      "metadata": {
        "id": "rvaLO18mT9Zn"
      },
      "source": [
        "### Five Numbers Summary"
      ]
    },
    {
      "cell_type": "code",
      "execution_count": 3,
      "metadata": {
        "colab": {
          "base_uri": "https://localhost:8080/"
        },
        "id": "ILrMwA1-J-iA",
        "outputId": "9f1d36f0-15c3-4c36-df24-788c56a43414"
      },
      "outputs": [
        {
          "name": "stdout",
          "output_type": "stream",
          "text": [
            "  0th percentile = 8.0    (Minimum)\n",
            " 25th percentile = 10.25  (1st quartile / Q1)\n",
            " 50th percentile = 12.0   (2nd quartile / Q2 / Median)\n",
            " 75th percentile = 14.5   (3rd quartile / Q3)\n",
            "100th percentile = 30.0   (Maximum)\n"
          ]
        }
      ],
      "source": [
        "q0 = prices.quantile(0)\n",
        "q1 = prices.quantile(0.25)\n",
        "q2 = prices.quantile(0.5)\n",
        "q3 = prices.quantile(0.75)\n",
        "q4 = prices.quantile(1)\n",
        "\n",
        "print(f\"  0th percentile = {q0:<5}  (Minimum)\")\n",
        "print(f\" 25th percentile = {q1:<5}  (1st quartile / Q1)\")\n",
        "print(f\" 50th percentile = {q2:<5}  (2nd quartile / Q2 / Median)\")\n",
        "print(f\" 75th percentile = {q3:<5}  (3rd quartile / Q3)\")\n",
        "print(f\"100th percentile = {q4:<5}  (Maximum)\")"
      ]
    },
    {
      "attachments": {},
      "cell_type": "markdown",
      "metadata": {},
      "source": [
        "#### Box Plot\n",
        "Box plot illustrates five number summary. Note that matplotlib will auto pick outliers out."
      ]
    },
    {
      "cell_type": "code",
      "execution_count": 4,
      "metadata": {
        "colab": {
          "base_uri": "https://localhost:8080/",
          "height": 283
        },
        "id": "R-3DhsHxRfkS",
        "outputId": "d2a277c0-9e2d-4c60-d4a9-b55dda209e4c"
      },
      "outputs": [
        {
          "data": {
            "text/plain": [
              "<AxesSubplot:>"
            ]
          },
          "execution_count": 4,
          "metadata": {},
          "output_type": "execute_result"
        },
        {
          "data": {
            "image/png": "[encoded data removed]",
            "text/plain": [
              "<Figure size 432x288 with 1 Axes>"
            ]
          },
          "metadata": {
            "needs_background": "light"
          },
          "output_type": "display_data"
        }
      ],
      "source": [
        "prices.plot.box()"
      ]
    },
    {
      "attachments": {},
      "cell_type": "markdown",
      "metadata": {
        "id": "7wDN-zTxUBiI"
      },
      "source": [
        "### Inter Quartile Range (IQR)"
      ]
    },
    {
      "attachments": {},
      "cell_type": "markdown",
      "metadata": {},
      "source": [
        "The Inter Quartile Range (IQR) is defined as\n",
        "$$\n",
        "\n",
        "IQR = Q3 - Q1\n",
        "\n",
        "$$"
      ]
    },
    {
      "cell_type": "code",
      "execution_count": 5,
      "metadata": {
        "colab": {
          "base_uri": "https://localhost:8080/"
        },
        "id": "1xwbCUYUUUK6",
        "outputId": "cabd07a4-0abd-47a6-c186-e2771983fa2d"
      },
      "outputs": [
        {
          "name": "stdout",
          "output_type": "stream",
          "text": [
            "IQR = Q3 - Q1 = 4.25\n"
          ]
        }
      ],
      "source": [
        "print(f\"IQR = Q3 - Q1 = {q3 - q1}\")"
      ]
    },
    {
      "attachments": {},
      "cell_type": "markdown",
      "metadata": {
        "id": "Sv6dV6Z2RdED"
      },
      "source": [
        "## Mean and Standard Deviation"
      ]
    },
    {
      "cell_type": "markdown",
      "metadata": {
        "id": "gdMmEnxQhPfo"
      },
      "source": [
        "For numbers $x_1, x_2, ..., x_n$\n",
        "\n",
        "The mean (average) $\\bar{x}$ is defined as\n",
        "\n",
        "$$\n",
        "\\bar{x} = \\frac{1}{n} \\sum_{i=1}^n x_i\n",
        "$$\n",
        "\n",
        "and the standard deviation $\\sigma_x$\n",
        "\n",
        "$$\n",
        "\\sigma_x = \\sqrt{\\frac{1}{n} \\sum_{i=1}^n (x_i - \\bar{x})^2}\n",
        "$$"
      ]
    },
    {
      "cell_type": "code",
      "execution_count": 6,
      "metadata": {
        "colab": {
          "base_uri": "https://localhost:8080/"
        },
        "id": "MuUTZllFc0R-",
        "outputId": "a119c647-9797-4530-8b5e-9e2317bcd8ea"
      },
      "outputs": [
        {
          "name": "stdout",
          "output_type": "stream",
          "text": [
            "mean: 14.0\n",
            "stdev: 6.5659052011974035\n"
          ]
        }
      ],
      "source": [
        "print(f\"mean: {prices.mean()}\")\n",
        "print(f\"stdev: {prices.std()}\")"
      ]
    },
    {
      "attachments": {},
      "cell_type": "markdown",
      "metadata": {
        "id": "E5kfHq_VhaAB"
      },
      "source": [
        "### Mesure with Mean & $\\sigma$ or Median & IQR?"
      ]
    },
    {
      "cell_type": "markdown",
      "metadata": {
        "id": "r5LgGKddgf9b"
      },
      "source": [
        "Mean and stardart deviation are sensitive to edge values, if it is a concern, use median and inter quartile range (IQR) instead"
      ]
    },
    {
      "cell_type": "code",
      "execution_count": 7,
      "metadata": {
        "colab": {
          "base_uri": "https://localhost:8080/"
        },
        "id": "c8Ez3OV2exue",
        "outputId": "0428ad7f-238d-4142-e461-4ba550f5e250"
      },
      "outputs": [
        {
          "name": "stdout",
          "output_type": "stream",
          "text": [
            "Median: 12.0\n",
            "IQR: 4.25\n"
          ]
        }
      ],
      "source": [
        "print(f\"Median: {prices.median()}\")\n",
        "print(f\"IQR: {prices.quantile(0.75) - prices.quantile(0.25)}\")"
      ]
    },
    {
      "cell_type": "code",
      "execution_count": null,
      "metadata": {},
      "outputs": [],
      "source": []
    }
  ],
  "metadata": {
    "colab": {
      "authorship_tag": "ABX9TyNMTe6QuzjH1w/PUyuUGaB0",
      "collapsed_sections": [],
      "name": "introduction_to_statistics.ipynb",
      "provenance": []
    },
    "kernelspec": {
      "display_name": "Python 3",
      "name": "python3"
    },
    "language_info": {
      "codemirror_mode": {
        "name": "ipython",
        "version": 3
      },
      "file_extension": ".py",
      "mimetype": "text/x-python",
      "name": "python",
      "nbconvert_exporter": "python",
      "pygments_lexer": "ipython3",
      "version": "3.6.15"
    }
  },
  "nbformat": 4,
  "nbformat_minor": 0
}
